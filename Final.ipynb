{
 "cells": [
  {
   "cell_type": "markdown",
   "id": "224f546d",
   "metadata": {
    "toc": true
   },
   "source": [
    "<h1>Table of Contents<span class=\"tocSkip\"></span></h1>\n",
    "<div class=\"toc\"><ul class=\"toc-item\"><li><span><a href=\"#Условия.\" data-toc-modified-id=\"Условия.-1\"><span class=\"toc-item-num\">1&nbsp;&nbsp;</span>Условия.</a></span></li><li><span><a href=\"#Задание-1.\" data-toc-modified-id=\"Задание-1.-2\"><span class=\"toc-item-num\">2&nbsp;&nbsp;</span>Задание 1.</a></span></li><li><span><a href=\"#Задание-2.\" data-toc-modified-id=\"Задание-2.-3\"><span class=\"toc-item-num\">3&nbsp;&nbsp;</span>Задание 2.</a></span></li><li><span><a href=\"#Задание-3.\" data-toc-modified-id=\"Задание-3.-4\"><span class=\"toc-item-num\">4&nbsp;&nbsp;</span>Задание 3.</a></span></li><li><span><a href=\"#Задание-4.\" data-toc-modified-id=\"Задание-4.-5\"><span class=\"toc-item-num\">5&nbsp;&nbsp;</span>Задание 4.</a></span></li><li><span><a href=\"#Задание-5.\" data-toc-modified-id=\"Задание-5.-6\"><span class=\"toc-item-num\">6&nbsp;&nbsp;</span>Задание 5.</a></span></li></ul></div>"
   ]
  },
  {
   "cell_type": "markdown",
   "id": "48533576",
   "metadata": {},
   "source": [
    "# Условия."
   ]
  },
  {
   "cell_type": "markdown",
   "id": "5a42e83a",
   "metadata": {},
   "source": [
    "Зарплаты в San Francisco\n",
    "https://www.kaggle.com/kaggle/sf-salaries?select=Salaries.csv \n",
    "1. Как со временем менялись зарплаты между разными группами (группировка по Department - fire, medicine, police)? (максимальная, медианная, средняя)\n",
    "2. Как распределяются базовая оплата, сверхурочная работа и льготы между разными группами? Нужно построить диаграммы по распределению со временем для каждого департамента по базовым, сверхурочным и льготам\n",
    "3. Как распределяется бюджет на разные группы (department) с течением времени?\n",
    "4. Какое количество людей в каждом департаменте? \n",
    "5. Какое количество с разным уровнем дохода? (гистограмма с шагом в 5к) \n",
    "6. На базе линейной регрессии постройте прогноз по тому, какие будут закупке в следующий год по каждому департаменту\n",
    "7. Комментарий преподавателя на тему 6 задания: 'Я имел ввиду, что нужно построить регрессию на базе имеющих данных (их может не быть) Те Если есть данные за 10ый и 11ый - то нужно продолжить и построить за 12ый'\n"
   ]
  },
  {
   "cell_type": "code",
   "execution_count": 47,
   "id": "91e0e6e2",
   "metadata": {},
   "outputs": [],
   "source": [
    "import pandas as pd\n",
    "import numpy as np\n",
    "import matplotlib.pyplot as plt"
   ]
  },
  {
   "cell_type": "code",
   "execution_count": 2,
   "id": "63b57f7f",
   "metadata": {
    "scrolled": true
   },
   "outputs": [
    {
     "name": "stderr",
     "output_type": "stream",
     "text": [
      "C:\\Users\\Stas\\anaconda3\\lib\\site-packages\\IPython\\core\\interactiveshell.py:3165: DtypeWarning: Columns (3,4,5,6,12) have mixed types.Specify dtype option on import or set low_memory=False.\n",
      "  has_raised = await self.run_ast_nodes(code_ast.body, cell_name,\n"
     ]
    },
    {
     "data": {
      "text/html": [
       "<div>\n",
       "<style scoped>\n",
       "    .dataframe tbody tr th:only-of-type {\n",
       "        vertical-align: middle;\n",
       "    }\n",
       "\n",
       "    .dataframe tbody tr th {\n",
       "        vertical-align: top;\n",
       "    }\n",
       "\n",
       "    .dataframe thead th {\n",
       "        text-align: right;\n",
       "    }\n",
       "</style>\n",
       "<table border=\"1\" class=\"dataframe\">\n",
       "  <thead>\n",
       "    <tr style=\"text-align: right;\">\n",
       "      <th></th>\n",
       "      <th>Id</th>\n",
       "      <th>EmployeeName</th>\n",
       "      <th>JobTitle</th>\n",
       "      <th>BasePay</th>\n",
       "      <th>OvertimePay</th>\n",
       "      <th>OtherPay</th>\n",
       "      <th>Benefits</th>\n",
       "      <th>TotalPay</th>\n",
       "      <th>TotalPayBenefits</th>\n",
       "      <th>Year</th>\n",
       "      <th>Notes</th>\n",
       "      <th>Agency</th>\n",
       "      <th>Status</th>\n",
       "    </tr>\n",
       "  </thead>\n",
       "  <tbody>\n",
       "    <tr>\n",
       "      <th>0</th>\n",
       "      <td>1</td>\n",
       "      <td>NATHANIEL FORD</td>\n",
       "      <td>GENERAL MANAGER-METROPOLITAN TRANSIT AUTHORITY</td>\n",
       "      <td>167411.18</td>\n",
       "      <td>0.0</td>\n",
       "      <td>400184.25</td>\n",
       "      <td>NaN</td>\n",
       "      <td>567595.43</td>\n",
       "      <td>567595.43</td>\n",
       "      <td>2011</td>\n",
       "      <td>NaN</td>\n",
       "      <td>San Francisco</td>\n",
       "      <td>NaN</td>\n",
       "    </tr>\n",
       "    <tr>\n",
       "      <th>1</th>\n",
       "      <td>2</td>\n",
       "      <td>GARY JIMENEZ</td>\n",
       "      <td>CAPTAIN III (POLICE DEPARTMENT)</td>\n",
       "      <td>155966.02</td>\n",
       "      <td>245131.88</td>\n",
       "      <td>137811.38</td>\n",
       "      <td>NaN</td>\n",
       "      <td>538909.28</td>\n",
       "      <td>538909.28</td>\n",
       "      <td>2011</td>\n",
       "      <td>NaN</td>\n",
       "      <td>San Francisco</td>\n",
       "      <td>NaN</td>\n",
       "    </tr>\n",
       "    <tr>\n",
       "      <th>2</th>\n",
       "      <td>3</td>\n",
       "      <td>ALBERT PARDINI</td>\n",
       "      <td>CAPTAIN III (POLICE DEPARTMENT)</td>\n",
       "      <td>212739.13</td>\n",
       "      <td>106088.18</td>\n",
       "      <td>16452.6</td>\n",
       "      <td>NaN</td>\n",
       "      <td>335279.91</td>\n",
       "      <td>335279.91</td>\n",
       "      <td>2011</td>\n",
       "      <td>NaN</td>\n",
       "      <td>San Francisco</td>\n",
       "      <td>NaN</td>\n",
       "    </tr>\n",
       "    <tr>\n",
       "      <th>3</th>\n",
       "      <td>4</td>\n",
       "      <td>CHRISTOPHER CHONG</td>\n",
       "      <td>WIRE ROPE CABLE MAINTENANCE MECHANIC</td>\n",
       "      <td>77916.0</td>\n",
       "      <td>56120.71</td>\n",
       "      <td>198306.9</td>\n",
       "      <td>NaN</td>\n",
       "      <td>332343.61</td>\n",
       "      <td>332343.61</td>\n",
       "      <td>2011</td>\n",
       "      <td>NaN</td>\n",
       "      <td>San Francisco</td>\n",
       "      <td>NaN</td>\n",
       "    </tr>\n",
       "    <tr>\n",
       "      <th>4</th>\n",
       "      <td>5</td>\n",
       "      <td>PATRICK GARDNER</td>\n",
       "      <td>DEPUTY CHIEF OF DEPARTMENT,(FIRE DEPARTMENT)</td>\n",
       "      <td>134401.6</td>\n",
       "      <td>9737.0</td>\n",
       "      <td>182234.59</td>\n",
       "      <td>NaN</td>\n",
       "      <td>326373.19</td>\n",
       "      <td>326373.19</td>\n",
       "      <td>2011</td>\n",
       "      <td>NaN</td>\n",
       "      <td>San Francisco</td>\n",
       "      <td>NaN</td>\n",
       "    </tr>\n",
       "  </tbody>\n",
       "</table>\n",
       "</div>"
      ],
      "text/plain": [
       "   Id       EmployeeName                                        JobTitle  \\\n",
       "0   1     NATHANIEL FORD  GENERAL MANAGER-METROPOLITAN TRANSIT AUTHORITY   \n",
       "1   2       GARY JIMENEZ                 CAPTAIN III (POLICE DEPARTMENT)   \n",
       "2   3     ALBERT PARDINI                 CAPTAIN III (POLICE DEPARTMENT)   \n",
       "3   4  CHRISTOPHER CHONG            WIRE ROPE CABLE MAINTENANCE MECHANIC   \n",
       "4   5    PATRICK GARDNER    DEPUTY CHIEF OF DEPARTMENT,(FIRE DEPARTMENT)   \n",
       "\n",
       "     BasePay OvertimePay   OtherPay Benefits   TotalPay  TotalPayBenefits  \\\n",
       "0  167411.18         0.0  400184.25      NaN  567595.43         567595.43   \n",
       "1  155966.02   245131.88  137811.38      NaN  538909.28         538909.28   \n",
       "2  212739.13   106088.18    16452.6      NaN  335279.91         335279.91   \n",
       "3    77916.0    56120.71   198306.9      NaN  332343.61         332343.61   \n",
       "4   134401.6      9737.0  182234.59      NaN  326373.19         326373.19   \n",
       "\n",
       "   Year  Notes         Agency Status  \n",
       "0  2011    NaN  San Francisco    NaN  \n",
       "1  2011    NaN  San Francisco    NaN  \n",
       "2  2011    NaN  San Francisco    NaN  \n",
       "3  2011    NaN  San Francisco    NaN  \n",
       "4  2011    NaN  San Francisco    NaN  "
      ]
     },
     "execution_count": 2,
     "metadata": {},
     "output_type": "execute_result"
    }
   ],
   "source": [
    "#Загрузка датасета\n",
    "data = pd.read_csv('Salaries.csv')\n",
    "data.head()"
   ]
  },
  {
   "cell_type": "code",
   "execution_count": 3,
   "id": "c53939b1",
   "metadata": {},
   "outputs": [],
   "source": [
    "data.drop(columns=['Notes','Id','EmployeeName','Agency','Status'],inplace=True)\n",
    "data = data[data['JobTitle'] != 'Not provided']\n",
    "data.reset_index(inplace = True, drop = True)\n",
    "data['JobTitle'] = data['JobTitle'].str.lower()"
   ]
  },
  {
   "cell_type": "code",
   "execution_count": 5,
   "id": "b3a1ddf4",
   "metadata": {},
   "outputs": [],
   "source": [
    "def flag(df, title ):\n",
    "    '''Функция разметки сотрудников по депортаментам'''\n",
    "    \n",
    "    res = []\n",
    "    \n",
    "    for row in df.iterrows():\n",
    "        if 'police'  in row[1][title]:\n",
    "            res.append('PD')\n",
    "        elif 'sheriff'  in row[1][title]:\n",
    "            res.append('PD')\n",
    "        elif 'fire' in row[1][title]:\n",
    "            res.append('FD')\n",
    "        elif  'nurs'  in row[1][title]:\n",
    "            res.append('HD')\n",
    "        elif  'doctor'  in row[1][title]:\n",
    "            res.append('HD')\n",
    "        elif  'med'  in row[1][title]:\n",
    "            res.append('HD')\n",
    "        elif  'clinic'  in row[1][title]:\n",
    "            res.append('HD')\n",
    "        elif  'physician'  in row[1][title]:\n",
    "            res.append('HD')\n",
    "        else:\n",
    "            res.append('Other dep')        \n",
    "    return res"
   ]
  },
  {
   "cell_type": "code",
   "execution_count": null,
   "id": "e063a781",
   "metadata": {},
   "outputs": [],
   "source": [
    "#проверка функци на семпле датасета\n",
    "data_sample = data.sample(10).copy()\n",
    "data_sample['Flag'] = flag(data_sample, 'JobTitle')\n",
    "data_sample "
   ]
  },
  {
   "cell_type": "code",
   "execution_count": 6,
   "id": "03aae6c8",
   "metadata": {},
   "outputs": [],
   "source": [
    "#применение функции flag на весь датасет\n",
    "data['flag'] = flag(data, 'JobTitle')"
   ]
  },
  {
   "cell_type": "code",
   "execution_count": 7,
   "id": "bfd0296b",
   "metadata": {},
   "outputs": [],
   "source": [
    "#оставляем только записи по нужным нам департаментам\n",
    "data = data[data['flag'] != 'Other dep']"
   ]
  },
  {
   "cell_type": "code",
   "execution_count": 8,
   "id": "188feaed",
   "metadata": {
    "collapsed": true
   },
   "outputs": [
    {
     "name": "stderr",
     "output_type": "stream",
     "text": [
      "<ipython-input-8-fa2f692a9f8d>:1: SettingWithCopyWarning: \n",
      "A value is trying to be set on a copy of a slice from a DataFrame.\n",
      "Try using .loc[row_indexer,col_indexer] = value instead\n",
      "\n",
      "See the caveats in the documentation: https://pandas.pydata.org/pandas-docs/stable/user_guide/indexing.html#returning-a-view-versus-a-copy\n",
      "  data['BasePay'] = data['BasePay'].astype('float64')\n",
      "<ipython-input-8-fa2f692a9f8d>:2: SettingWithCopyWarning: \n",
      "A value is trying to be set on a copy of a slice from a DataFrame.\n",
      "Try using .loc[row_indexer,col_indexer] = value instead\n",
      "\n",
      "See the caveats in the documentation: https://pandas.pydata.org/pandas-docs/stable/user_guide/indexing.html#returning-a-view-versus-a-copy\n",
      "  data['OvertimePay'] = data['OvertimePay'].astype('float64')\n",
      "<ipython-input-8-fa2f692a9f8d>:3: SettingWithCopyWarning: \n",
      "A value is trying to be set on a copy of a slice from a DataFrame.\n",
      "Try using .loc[row_indexer,col_indexer] = value instead\n",
      "\n",
      "See the caveats in the documentation: https://pandas.pydata.org/pandas-docs/stable/user_guide/indexing.html#returning-a-view-versus-a-copy\n",
      "  data['OtherPay'] = data['OtherPay'].astype('float64')\n",
      "<ipython-input-8-fa2f692a9f8d>:4: SettingWithCopyWarning: \n",
      "A value is trying to be set on a copy of a slice from a DataFrame.\n",
      "Try using .loc[row_indexer,col_indexer] = value instead\n",
      "\n",
      "See the caveats in the documentation: https://pandas.pydata.org/pandas-docs/stable/user_guide/indexing.html#returning-a-view-versus-a-copy\n",
      "  data['Benefits'] = data['Benefits'].astype('float64')\n"
     ]
    },
    {
     "data": {
      "text/plain": [
       "JobTitle             object\n",
       "BasePay             float64\n",
       "OvertimePay         float64\n",
       "OtherPay            float64\n",
       "Benefits            float64\n",
       "TotalPay            float64\n",
       "TotalPayBenefits    float64\n",
       "Year                  int64\n",
       "flag                 object\n",
       "dtype: object"
      ]
     },
     "execution_count": 8,
     "metadata": {},
     "output_type": "execute_result"
    }
   ],
   "source": [
    "#корректируем формат данных\n",
    "data['BasePay'] = data['BasePay'].astype('float64')\n",
    "data['OvertimePay'] = data['OvertimePay'].astype('float64')\n",
    "data['OtherPay'] = data['OtherPay'].astype('float64')\n",
    "data['Benefits'] = data['Benefits'].astype('float64')"
   ]
  },
  {
   "cell_type": "markdown",
   "id": "bfb7c4a1",
   "metadata": {},
   "source": [
    "# Задание 1."
   ]
  },
  {
   "cell_type": "code",
   "execution_count": 16,
   "id": "20a9ebda",
   "metadata": {},
   "outputs": [
    {
     "data": {
      "text/plain": [
       "<AxesSubplot:xlabel='Year'>"
      ]
     },
     "execution_count": 16,
     "metadata": {},
     "output_type": "execute_result"
    },
    {
     "data": {
      "image/png": "[encoded data removed]",
      "text/plain": [
       "<Figure size 432x288 with 1 Axes>"
      ]
     },
     "metadata": {
      "needs_background": "light"
     },
     "output_type": "display_data"
    }
   ],
   "source": [
    "#Изменение зарплат в депортаменте полиции по годам\n",
    "data[data['flag'] == 'PD'].groupby('Year')['TotalPay'].agg(['mean', 'max', \"median\"]).plot(kind='bar')"
   ]
  },
  {
   "cell_type": "code",
   "execution_count": 17,
   "id": "21d5fafb",
   "metadata": {},
   "outputs": [
    {
     "data": {
      "text/plain": [
       "<AxesSubplot:xlabel='Year'>"
      ]
     },
     "execution_count": 17,
     "metadata": {},
     "output_type": "execute_result"
    },
    {
     "data": {
      "image/png": "[encoded data removed]",
      "text/plain": [
       "<Figure size 432x288 with 1 Axes>"
      ]
     },
     "metadata": {
      "needs_background": "light"
     },
     "output_type": "display_data"
    }
   ],
   "source": [
    "##Изменение зарплат в депортаменте здравоохранения по годам\n",
    "data[data['flag'] == 'HD'].groupby('Year')['TotalPay'].agg(['mean', 'max', \"median\"]).plot(kind='bar')"
   ]
  },
  {
   "cell_type": "code",
   "execution_count": 19,
   "id": "fca905c1",
   "metadata": {
    "scrolled": false
   },
   "outputs": [
    {
     "data": {
      "text/plain": [
       "<AxesSubplot:xlabel='Year'>"
      ]
     },
     "execution_count": 19,
     "metadata": {},
     "output_type": "execute_result"
    },
    {
     "data": {
      "image/png": "[encoded data removed]",
      "text/plain": [
       "<Figure size 432x288 with 1 Axes>"
      ]
     },
     "metadata": {
      "needs_background": "light"
     },
     "output_type": "display_data"
    }
   ],
   "source": [
    "##Изменение зарплат в депортаменте пожарных по годам\n",
    "data[data['flag'] == 'FD'].groupby('Year')['TotalPay'].agg(['mean', 'max', \"median\"]).plot(kind='bar')"
   ]
  },
  {
   "cell_type": "markdown",
   "id": "776fb4f7",
   "metadata": {},
   "source": [
    "# Задание 2."
   ]
  },
  {
   "cell_type": "code",
   "execution_count": 20,
   "id": "46d7a197",
   "metadata": {},
   "outputs": [],
   "source": [
    "#создаем датафреймы по каждому департаменту\n",
    "data_pd = data[data['flag'] == 'PD']\n",
    "data_fd = data[data['flag'] == 'FD']\n",
    "data_hd = data[data['flag'] == 'HD']"
   ]
  },
  {
   "cell_type": "code",
   "execution_count": 29,
   "id": "b252c6fa",
   "metadata": {
    "scrolled": true
   },
   "outputs": [
    {
     "data": {
      "text/plain": [
       "<AxesSubplot:xlabel='Year'>"
      ]
     },
     "execution_count": 29,
     "metadata": {},
     "output_type": "execute_result"
    },
    {
     "data": {
      "image/png": "[encoded data removed]",
      "text/plain": [
       "<Figure size 432x288 with 1 Axes>"
      ]
     },
     "metadata": {
      "needs_background": "light"
     },
     "output_type": "display_data"
    }
   ],
   "source": [
    "#распределение доходов по типам в полицейском департаменте\n",
    "data_pd.groupby('Year')[['BasePay', 'OtherPay', 'OvertimePay', 'Benefits']].agg('sum').plot(kind = 'bar')"
   ]
  },
  {
   "cell_type": "code",
   "execution_count": 30,
   "id": "68d77c59",
   "metadata": {},
   "outputs": [
    {
     "data": {
      "text/plain": [
       "<AxesSubplot:xlabel='Year'>"
      ]
     },
     "execution_count": 30,
     "metadata": {},
     "output_type": "execute_result"
    },
    {
     "data": {
      "image/png": "[encoded data removed]",
      "text/plain": [
       "<Figure size 432x288 with 1 Axes>"
      ]
     },
     "metadata": {
      "needs_background": "light"
     },
     "output_type": "display_data"
    }
   ],
   "source": [
    "#распределение доходов по типам в пожарном департаменте\n",
    "data_fd.groupby('Year')[['BasePay', 'OtherPay', 'OvertimePay', 'Benefits']].agg('sum').plot(kind = 'bar')"
   ]
  },
  {
   "cell_type": "code",
   "execution_count": 31,
   "id": "96b5b9d1",
   "metadata": {},
   "outputs": [
    {
     "data": {
      "text/plain": [
       "<AxesSubplot:xlabel='Year'>"
      ]
     },
     "execution_count": 31,
     "metadata": {},
     "output_type": "execute_result"
    },
    {
     "data": {
      "image/png": "[encoded data removed]",
      "text/plain": [
       "<Figure size 432x288 with 1 Axes>"
      ]
     },
     "metadata": {
      "needs_background": "light"
     },
     "output_type": "display_data"
    }
   ],
   "source": [
    "#распределение доходов по типам в мед. департаменте\n",
    "data_hd.groupby('Year')[['BasePay', 'OtherPay', 'OvertimePay', 'Benefits']].agg('sum').plot(kind = 'bar')"
   ]
  },
  {
   "cell_type": "markdown",
   "id": "90e97bb7",
   "metadata": {},
   "source": [
    "# Задание 3."
   ]
  },
  {
   "cell_type": "code",
   "execution_count": 36,
   "id": "30dd728f",
   "metadata": {},
   "outputs": [
    {
     "data": {
      "text/plain": [
       "<AxesSubplot:xlabel='Year'>"
      ]
     },
     "execution_count": 36,
     "metadata": {},
     "output_type": "execute_result"
    },
    {
     "data": {
      "image/png": "[encoded data removed]",
      "text/plain": [
       "<Figure size 432x288 with 1 Axes>"
      ]
     },
     "metadata": {
      "needs_background": "light"
     },
     "output_type": "display_data"
    }
   ],
   "source": [
    "#расходы департаментов на оплату труда по годам\n",
    "dep = data.pivot_table(index='Year', values = 'TotalPay', columns='flag', aggfunc='sum' )\n",
    "dep.plot(kind='bar')"
   ]
  },
  {
   "cell_type": "markdown",
   "id": "2badb846",
   "metadata": {},
   "source": [
    "# Задание 4."
   ]
  },
  {
   "cell_type": "code",
   "execution_count": 43,
   "id": "88a4bcfc",
   "metadata": {},
   "outputs": [
    {
     "data": {
      "text/plain": [
       "<AxesSubplot:xlabel='Year'>"
      ]
     },
     "execution_count": 43,
     "metadata": {},
     "output_type": "execute_result"
    },
    {
     "data": {
      "image/png": "[encoded data removed]",
      "text/plain": [
       "<Figure size 432x288 with 1 Axes>"
      ]
     },
     "metadata": {
      "needs_background": "light"
     },
     "output_type": "display_data"
    }
   ],
   "source": [
    "#Количество сотрудников по департаментам\n",
    "number_of_humans = data.pivot_table(index='Year', values = 'JobTitle', columns='flag', aggfunc='size' )\n",
    "number_of_humans.plot(kind = 'bar')"
   ]
  },
  {
   "cell_type": "markdown",
   "id": "eb19a3e5",
   "metadata": {},
   "source": [
    "# Задание 5."
   ]
  },
  {
   "cell_type": "code",
   "execution_count": 53,
   "id": "9b11bcf4",
   "metadata": {},
   "outputs": [],
   "source": [
    "#Датафреймы по годам\n",
    "data_11 = data[data['Year'] == 2011]\n",
    "data_12 = data[data['Year'] == 2012]\n",
    "data_13 = data[data['Year'] == 2013]\n",
    "data_14 = data[data['Year'] == 2014]"
   ]
  },
  {
   "cell_type": "code",
   "execution_count": 59,
   "id": "4779fb8c",
   "metadata": {},
   "outputs": [
    {
     "data": {
      "text/plain": [
       "(array([12.,  7., 16., ...,  0.,  0.,  1.]),\n",
       " array([5.80000000e+00, 1.13580696e+02, 2.21361392e+02, ...,\n",
       "        5.38693719e+05, 5.38801499e+05, 5.38909280e+05]),\n",
       " <BarContainer object of 5000 artists>)"
      ]
     },
     "execution_count": 59,
     "metadata": {},
     "output_type": "execute_result"
    },
    {
     "data": {
      "image/png": "[encoded data removed]",
      "text/plain": [
       "<Figure size 432x288 with 1 Axes>"
      ]
     },
     "metadata": {
      "needs_background": "light"
     },
     "output_type": "display_data"
    }
   ],
   "source": [
    "#гистограмма доходов за 11 год\n",
    "plt.hist(data_11['TotalPay'], bins = 5000)"
   ]
  },
  {
   "cell_type": "code",
   "execution_count": 55,
   "id": "3b9bca4c",
   "metadata": {},
   "outputs": [
    {
     "data": {
      "text/plain": [
       "(array([22., 27.,  6., ...,  0.,  0.,  1.]),\n",
       " array([0.00000000e+00, 7.25689320e+01, 1.45137864e+02, ...,\n",
       "        3.62699522e+05, 3.62772091e+05, 3.62844660e+05]),\n",
       " <BarContainer object of 5000 artists>)"
      ]
     },
     "execution_count": 55,
     "metadata": {},
     "output_type": "execute_result"
    },
    {
     "data": {
      "image/png": "[encoded data removed]",
      "text/plain": [
       "<Figure size 432x288 with 1 Axes>"
      ]
     },
     "metadata": {
      "needs_background": "light"
     },
     "output_type": "display_data"
    }
   ],
   "source": [
    "#гистограмма доходов за 12 год\n",
    "plt.hist(data_12['TotalPay'], bins = 5000)"
   ]
  },
  {
   "cell_type": "code",
   "execution_count": 56,
   "id": "cf99d56c",
   "metadata": {},
   "outputs": [
    {
     "data": {
      "text/plain": [
       "(array([38., 10.,  7., ...,  0.,  0.,  1.]),\n",
       " array([0.00000000e+00, 6.94204640e+01, 1.38840928e+02, ...,\n",
       "        3.46963479e+05, 3.47032900e+05, 3.47102320e+05]),\n",
       " <BarContainer object of 5000 artists>)"
      ]
     },
     "execution_count": 56,
     "metadata": {},
     "output_type": "execute_result"
    },
    {
     "data": {
      "image/png": "[encoded data removed]",
      "text/plain": [
       "<Figure size 432x288 with 1 Axes>"
      ]
     },
     "metadata": {
      "needs_background": "light"
     },
     "output_type": "display_data"
    }
   ],
   "source": [
    "#гистограмма доходов за 13 год\n",
    "plt.hist(data_13['TotalPay'], bins = 5000)"
   ]
  },
  {
   "cell_type": "code",
   "execution_count": 61,
   "id": "b1779a8e",
   "metadata": {},
   "outputs": [
    {
     "data": {
      "text/plain": [
       "(array([22., 12., 13., ...,  0.,  0.,  1.]),\n",
       " array([0.00000000e+00, 7.80223960e+01, 1.56044792e+02, ...,\n",
       "        3.89955935e+05, 3.90033958e+05, 3.90111980e+05]),\n",
       " <BarContainer object of 5000 artists>)"
      ]
     },
     "execution_count": 61,
     "metadata": {},
     "output_type": "execute_result"
    },
    {
     "data": {
      "image/png": "[encoded data removed]",
      "text/plain": [
       "<Figure size 432x288 with 1 Axes>"
      ]
     },
     "metadata": {
      "needs_background": "light"
     },
     "output_type": "display_data"
    }
   ],
   "source": [
    "#гистограмма доходов за 14 год\n",
    "plt.hist(data_14['TotalPay'], bins = 5000)"
   ]
  }
 ],
 "metadata": {
  "kernelspec": {
   "display_name": "Python 3",
   "language": "python",
   "name": "python3"
  },
  "language_info": {
   "codemirror_mode": {
    "name": "ipython",
    "version": 3
   },
   "file_extension": ".py",
   "mimetype": "text/x-python",
   "name": "python",
   "nbconvert_exporter": "python",
   "pygments_lexer": "ipython3",
   "version": "3.8.8"
  },
  "toc": {
   "base_numbering": 1,
   "nav_menu": {},
   "number_sections": true,
   "sideBar": true,
   "skip_h1_title": false,
   "title_cell": "Table of Contents",
   "title_sidebar": "Contents",
   "toc_cell": true,
   "toc_position": {},
   "toc_section_display": true,
   "toc_window_display": true
  }
 },
 "nbformat": 4,
 "nbformat_minor": 5
}
